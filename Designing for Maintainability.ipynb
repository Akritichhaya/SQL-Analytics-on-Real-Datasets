{
 "cells": [
  {
   "cell_type": "code",
   "execution_count": null,
   "id": "36892beb-61bb-4a2f-8890-b8da71522148",
   "metadata": {},
   "outputs": [],
   "source": [
    "Challenge\n",
    "Add a new attribute, expore code that is a string of lenght 15, to products table\n",
    "\n",
    "Ten new products with export_code set to \"Restricted\" must be added\n",
    "\n",
    "Existing products must have their export_code column set to \"Unrestricted\"\n",
    "\n",
    "Describe DDL commands required to implement these changes\n",
    "\n",
    "Solution\n",
    "ALTER TABLE ... ADD COLUMN to add export_code\n",
    "10 INSERT statements with product data\n",
    "UPDATE statement to set export_code to \"Unrestricted\" WHERE export_code IS NULL"
   ]
  },
  {
   "cell_type": "code",
   "execution_count": null,
   "id": "652ec2cd-f362-4bc0-ab43-6218a07c3c11",
   "metadata": {},
   "outputs": [],
   "source": [
    "Insert 10 new products with export_code = 'Restricted'\n",
    "Example:\n",
    "\n",
    "INSERT INTO products (product_id, product_name, product_type, export_code)\n",
    "VALUES \n",
    "(101, 'Laptop', 'Electronics', 'Restricted'),\n",
    "(102, 'Smartphone', 'Electronics', 'Restricted'),\n",
    "(103, 'Perfume', 'Cosmetics', 'Restricted'),\n",
    "...\n",
    "(110, 'Medicine', 'Pharma', 'Restricted');\n",
    "\n",
    "\n",
    "(10 rows total — details can vary depending on schema).\n",
    "\n",
    "Update existing products\n",
    "\n",
    "UPDATE products\n",
    "SET export_code = 'Unrestricted'\n",
    "WHERE export_code IS NULL;\n",
    "\n",
    "\n",
    "This ensures that all older rows (the ones that existed before you added the column) now have \"Unrestricted\".\n",
    "\n",
    "🔹 In Plain English\n",
    "\n",
    "This challenge is testing if you know how to:\n",
    "\n",
    "Change a table structure (using ALTER TABLE).\n",
    "\n",
    "Add new rows (with INSERT).\n",
    "\n",
    "Modify existing rows (with UPDATE).\n",
    "\n",
    "👉 So basically it’s:\n",
    "\n",
    "Add a column.\n",
    "\n",
    "Insert 10 rows with \"Restricted\".\n",
    "\n",
    "Update old rows to \"Unrestricted\"."
   ]
  }
 ],
 "metadata": {
  "kernelspec": {
   "display_name": "Python 3 (ipykernel)",
   "language": "python",
   "name": "python3"
  },
  "language_info": {
   "codemirror_mode": {
    "name": "ipython",
    "version": 3
   },
   "file_extension": ".py",
   "mimetype": "text/x-python",
   "name": "python",
   "nbconvert_exporter": "python",
   "pygments_lexer": "ipython3",
   "version": "3.12.7"
  }
 },
 "nbformat": 4,
 "nbformat_minor": 5
}
