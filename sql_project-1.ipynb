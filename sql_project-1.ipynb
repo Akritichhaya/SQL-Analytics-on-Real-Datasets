{
 "cells": [
  {
   "cell_type": "code",
   "execution_count": 1,
   "id": "88f1f6cd-af7c-4f8a-9e48-eda4ac42cef9",
   "metadata": {},
   "outputs": [],
   "source": [
    "import psycopg2\n",
    "import os"
   ]
  },
  {
   "cell_type": "code",
   "execution_count": 2,
   "id": "3c9604f4-d6f6-4d4a-a0a0-85a5739648d2",
   "metadata": {},
   "outputs": [],
   "source": [
    "os.environ['POSTGRE_USERNAME'] = 'postgres'\n",
    "os.environ['POSTGRE_PASSWORD'] = 'mahi'"
   ]
  },
  {
   "cell_type": "code",
   "execution_count": 3,
   "id": "20bd3b48-6f44-422f-a08e-fa9a8a4ba131",
   "metadata": {},
   "outputs": [],
   "source": [
    "USER = os.environ['POSTGRE_USERNAME']\n",
    "PASSWORD = os.environ['POSTGRE_PASSWORD']"
   ]
  },
  {
   "cell_type": "code",
   "execution_count": 4,
   "id": "6b56e6cf-e712-43bb-911b-dc6c18479e80",
   "metadata": {},
   "outputs": [
    {
     "data": {
      "text/plain": [
       "('postgres', 'mahi')"
      ]
     },
     "execution_count": 4,
     "metadata": {},
     "output_type": "execute_result"
    }
   ],
   "source": [
    "USER, PASSWORD"
   ]
  },
  {
   "cell_type": "code",
   "execution_count": 5,
   "id": "38a357ed-bae3-4e03-9ca3-6c0514d6d093",
   "metadata": {},
   "outputs": [],
   "source": [
    "conn = psycopg2.connect(database='sql-data-analysis-and-visualisation-projects',\n",
    "                                       user=USER,\n",
    "                                       password=PASSWORD,\n",
    "                                       host='localhost',\n",
    "                                       port=5432)"
   ]
  },
  {
   "cell_type": "code",
   "execution_count": 6,
   "id": "a4d53533-7fef-45d2-a29d-c44a3e09ce89",
   "metadata": {},
   "outputs": [
    {
     "data": {
      "text/plain": [
       "<connection object at 0x00000193D425CAE0; dsn: 'user=postgres password=xxx dbname=sql-data-analysis-and-visualisation-projects host=localhost port=5432', closed: 0>"
      ]
     },
     "execution_count": 6,
     "metadata": {},
     "output_type": "execute_result"
    }
   ],
   "source": [
    "conn"
   ]
  },
  {
   "cell_type": "code",
   "execution_count": 8,
   "id": "3514334b-511d-4693-8301-51440f0114f6",
   "metadata": {},
   "outputs": [],
   "source": [
    "all_ovens = getProductsByType(conn, 'oven')"
   ]
  },
  {
   "cell_type": "code",
   "execution_count": 9,
   "id": "4b85b737-80ff-4361-a7b3-55182fae0cc9",
   "metadata": {},
   "outputs": [
    {
     "data": {
      "text/plain": [
       "20"
      ]
     },
     "execution_count": 9,
     "metadata": {},
     "output_type": "execute_result"
    }
   ],
   "source": [
    "len(all_ovens)"
   ]
  },
  {
   "cell_type": "code",
   "execution_count": 7,
   "id": "b7068410-7c65-42b9-9358-380f6d4f1cd1",
   "metadata": {},
   "outputs": [],
   "source": [
    "def getProductsByType(db_conn, prod_type):\n",
    "    cursor = db_conn.cursor()\n",
    "    sql_string = 'SELECT * FROM products WHERE product_type = %s'\n",
    "    cursor.execute(sql_string, [prod_type])\n",
    "    return (cursor.fetchall())"
   ]
  },
  {
   "cell_type": "code",
   "execution_count": 10,
   "id": "6e877c5a-2c90-4508-a394-44003efd5796",
   "metadata": {},
   "outputs": [
    {
     "data": {
      "text/plain": [
       "[(1, 'Reflector oven', 'oven'),\n",
       " (2, 'Convection microwave', 'oven'),\n",
       " (15, 'Masonry oven', 'oven'),\n",
       " (24, 'Microwave oven', 'oven'),\n",
       " (32, 'Russian oven', 'oven')]"
      ]
     },
     "execution_count": 10,
     "metadata": {},
     "output_type": "execute_result"
    }
   ],
   "source": [
    "all_ovens[:5]"
   ]
  },
  {
   "cell_type": "code",
   "execution_count": 11,
   "id": "0dea3f0c-dc03-4c4b-9df3-e333ca859d3d",
   "metadata": {},
   "outputs": [],
   "source": [
    "# Avoiding N+1 queries\n",
    "# Let's say we want to get all product orders which include any type of ovens"
   ]
  },
  {
   "cell_type": "code",
   "execution_count": 12,
   "id": "8761258e-f0e6-4e0e-9658-a4c1b60584e4",
   "metadata": {},
   "outputs": [
    {
     "name": "stdout",
     "output_type": "stream",
     "text": [
      "fetchall_count:  1\n",
      "[(3, 1, 5, Decimal('72.69')), (25, 1, 4, Decimal('63.59')), (59, 1, 3, Decimal('22.07')), (68, 1, 4, Decimal('196.11')), (71, 1, 5, Decimal('227.35')), (81, 1, 4, Decimal('116.89')), (121, 1, 2, Decimal('277.29')), (123, 1, 1, Decimal('127.55')), (138, 1, 1, Decimal('38.29')), (155, 1, 1, Decimal('279.34')), (187, 1, 3, Decimal('149.28')), (203, 1, 1, Decimal('299.98')), (208, 1, 1, Decimal('121.73')), (259, 1, 1, Decimal('167.60')), (300, 1, 1, Decimal('66.57'))] \n",
      "\n",
      "fetchall_count:  2\n",
      "[(20, 2, 1, Decimal('211.07')), (57, 2, 4, Decimal('65.81')), (58, 2, 5, Decimal('102.97')), (63, 2, 4, Decimal('43.22')), (79, 2, 2, Decimal('293.17')), (80, 2, 1, Decimal('181.54')), (94, 2, 4, Decimal('297.49')), (130, 2, 3, Decimal('44.08')), (141, 2, 3, Decimal('187.80')), (155, 2, 2, Decimal('24.27')), (185, 2, 3, Decimal('246.71')), (237, 2, 3, Decimal('224.47')), (253, 2, 4, Decimal('298.50')), (263, 2, 2, Decimal('112.06')), (273, 2, 2, Decimal('182.99'))] \n",
      "\n",
      "fetchall_count:  3\n",
      "[(10, 15, 5, Decimal('76.80')), (11, 15, 1, Decimal('282.80')), (61, 15, 1, Decimal('268.02')), (79, 15, 5, Decimal('184.14')), (106, 15, 2, Decimal('42.49')), (176, 15, 3, Decimal('207.48')), (179, 15, 1, Decimal('244.24'))] \n",
      "\n",
      "fetchall_count:  4\n",
      "[(32, 24, 3, Decimal('70.57')), (78, 24, 4, Decimal('21.83')), (81, 24, 3, Decimal('284.95')), (84, 24, 4, Decimal('244.54')), (97, 24, 1, Decimal('252.06')), (147, 24, 5, Decimal('96.33')), (154, 24, 3, Decimal('203.38')), (161, 24, 4, Decimal('269.07')), (205, 24, 4, Decimal('184.06')), (218, 24, 2, Decimal('111.50')), (231, 24, 1, Decimal('77.68')), (251, 24, 1, Decimal('70.82')), (270, 24, 2, Decimal('91.06')), (275, 24, 1, Decimal('99.06')), (294, 24, 1, Decimal('281.60'))] \n",
      "\n",
      "fetchall_count:  5\n",
      "[(23, 32, 5, Decimal('114.08')), (24, 32, 5, Decimal('60.54')), (30, 32, 1, Decimal('57.09')), (35, 32, 1, Decimal('148.47')), (104, 32, 1, Decimal('110.06')), (126, 32, 2, Decimal('215.42')), (189, 32, 2, Decimal('242.99')), (216, 32, 1, Decimal('59.54')), (218, 32, 1, Decimal('166.24')), (223, 32, 5, Decimal('268.88')), (224, 32, 1, Decimal('235.23')), (233, 32, 2, Decimal('152.30')), (269, 32, 3, Decimal('291.17'))] \n",
      "\n",
      "fetchall_count:  6\n",
      "[(50, 33, 4, Decimal('106.41')), (66, 33, 3, Decimal('107.58')), (69, 33, 2, Decimal('248.46')), (81, 33, 1, Decimal('46.68')), (82, 33, 2, Decimal('93.58')), (89, 33, 2, Decimal('98.24')), (129, 33, 4, Decimal('271.41')), (143, 33, 3, Decimal('136.21')), (155, 33, 4, Decimal('190.61')), (184, 33, 2, Decimal('163.07')), (208, 33, 1, Decimal('216.69')), (229, 33, 3, Decimal('264.55')), (236, 33, 4, Decimal('172.52')), (240, 33, 5, Decimal('281.13')), (262, 33, 4, Decimal('118.76')), (298, 33, 2, Decimal('82.57'))] \n",
      "\n",
      "fetchall_count:  7\n",
      "[(30, 34, 3, Decimal('61.61')), (45, 34, 2, Decimal('102.11')), (115, 34, 2, Decimal('222.81')), (122, 34, 1, Decimal('43.55')), (131, 34, 2, Decimal('228.91')), (150, 34, 4, Decimal('50.57')), (153, 34, 5, Decimal('156.85')), (182, 34, 4, Decimal('51.79')), (188, 34, 5, Decimal('222.32')), (266, 34, 3, Decimal('269.89'))] \n",
      "\n",
      "fetchall_count:  8\n",
      "[(52, 37, 2, Decimal('299.60')), (107, 37, 5, Decimal('102.06')), (109, 37, 3, Decimal('69.85')), (121, 37, 2, Decimal('207.10')), (126, 37, 5, Decimal('268.86')), (128, 37, 5, Decimal('102.65')), (132, 37, 5, Decimal('39.61')), (186, 37, 2, Decimal('184.06')), (192, 37, 1, Decimal('219.63')), (216, 37, 3, Decimal('222.38')), (223, 37, 3, Decimal('85.97')), (234, 37, 4, Decimal('44.71')), (245, 37, 2, Decimal('84.73')), (247, 37, 3, Decimal('227.49')), (288, 37, 2, Decimal('250.11'))] \n",
      "\n",
      "fetchall_count:  9\n",
      "[(15, 38, 2, Decimal('299.62')), (33, 38, 4, Decimal('236.11')), (51, 38, 4, Decimal('163.11')), (53, 38, 1, Decimal('288.20')), (58, 38, 3, Decimal('255.12')), (103, 38, 5, Decimal('149.83')), (142, 38, 4, Decimal('22.75')), (146, 38, 2, Decimal('243.92')), (156, 38, 5, Decimal('177.85')), (243, 38, 3, Decimal('193.73')), (289, 38, 3, Decimal('106.18')), (298, 38, 4, Decimal('36.04'))] \n",
      "\n",
      "fetchall_count:  10\n",
      "[(15, 41, 2, Decimal('158.61')), (17, 41, 2, Decimal('114.64')), (18, 41, 2, Decimal('126.41')), (36, 41, 1, Decimal('252.91')), (39, 41, 5, Decimal('256.48')), (48, 41, 3, Decimal('148.91')), (56, 41, 3, Decimal('239.39')), (68, 41, 5, Decimal('151.73')), (85, 41, 3, Decimal('288.24')), (142, 41, 2, Decimal('253.98')), (190, 41, 1, Decimal('259.61')), (221, 41, 4, Decimal('166.39')), (235, 41, 5, Decimal('194.09')), (238, 41, 5, Decimal('35.42')), (267, 41, 3, Decimal('238.67'))] \n",
      "\n",
      "fetchall_count:  11\n",
      "[(7, 42, 5, Decimal('201.44')), (13, 42, 1, Decimal('47.79')), (49, 42, 2, Decimal('26.63')), (66, 42, 5, Decimal('174.47')), (88, 42, 2, Decimal('281.22')), (181, 42, 1, Decimal('32.13')), (203, 42, 1, Decimal('184.27')), (204, 42, 4, Decimal('215.33')), (249, 42, 5, Decimal('268.09')), (288, 42, 4, Decimal('229.96')), (293, 42, 2, Decimal('49.51')), (298, 42, 5, Decimal('50.32'))] \n",
      "\n",
      "fetchall_count:  12\n",
      "[(9, 43, 5, Decimal('230.13')), (26, 43, 2, Decimal('195.19')), (28, 43, 5, Decimal('296.70')), (48, 43, 4, Decimal('120.45')), (52, 43, 4, Decimal('89.25')), (56, 43, 5, Decimal('239.55')), (104, 43, 4, Decimal('142.18')), (134, 43, 1, Decimal('272.74')), (165, 43, 2, Decimal('25.91')), (166, 43, 4, Decimal('130.21')), (190, 43, 5, Decimal('275.01')), (202, 43, 1, Decimal('90.41')), (233, 43, 4, Decimal('190.09')), (286, 43, 2, Decimal('83.52')), (295, 43, 5, Decimal('34.92'))] \n",
      "\n",
      "fetchall_count:  13\n",
      "[(21, 47, 3, Decimal('73.83')), (35, 47, 5, Decimal('261.38')), (52, 47, 3, Decimal('255.84')), (65, 47, 5, Decimal('220.94')), (116, 47, 4, Decimal('81.56')), (178, 47, 5, Decimal('47.63')), (226, 47, 1, Decimal('129.59')), (240, 47, 5, Decimal('31.14')), (254, 47, 4, Decimal('200.50'))] \n",
      "\n",
      "fetchall_count:  14\n",
      "[(47, 48, 3, Decimal('262.16')), (65, 48, 2, Decimal('149.43')), (133, 48, 3, Decimal('110.95')), (135, 48, 4, Decimal('253.41')), (252, 48, 4, Decimal('110.52')), (264, 48, 3, Decimal('196.83'))] \n",
      "\n",
      "fetchall_count:  15\n",
      "[(6, 58, 2, Decimal('110.55')), (14, 58, 4, Decimal('198.79')), (50, 58, 4, Decimal('107.07')), (80, 58, 3, Decimal('185.41')), (106, 58, 2, Decimal('63.68')), (128, 58, 3, Decimal('129.37')), (131, 58, 1, Decimal('260.66')), (155, 58, 5, Decimal('57.80')), (199, 58, 3, Decimal('205.48')), (206, 58, 5, Decimal('287.11')), (254, 58, 2, Decimal('55.64'))] \n",
      "\n",
      "fetchall_count:  16\n",
      "[(27, 67, 2, Decimal('191.86')), (38, 67, 5, Decimal('237.32')), (62, 67, 5, Decimal('31.46')), (90, 67, 3, Decimal('37.05')), (92, 67, 3, Decimal('245.98')), (122, 67, 4, Decimal('168.12')), (154, 67, 1, Decimal('198.10')), (180, 67, 5, Decimal('168.40')), (187, 67, 2, Decimal('81.90')), (191, 67, 1, Decimal('218.77')), (202, 67, 4, Decimal('169.92')), (220, 67, 2, Decimal('120.95')), (232, 67, 3, Decimal('230.89'))] \n",
      "\n",
      "fetchall_count:  17\n",
      "[(35, 72, 1, Decimal('214.48')), (81, 72, 2, Decimal('99.95')), (98, 72, 5, Decimal('241.21')), (168, 72, 1, Decimal('282.82')), (180, 72, 2, Decimal('254.75')), (182, 72, 3, Decimal('157.77')), (208, 72, 5, Decimal('97.49')), (235, 72, 2, Decimal('109.82')), (244, 72, 1, Decimal('176.73')), (273, 72, 3, Decimal('172.59')), (286, 72, 2, Decimal('128.32')), (291, 72, 5, Decimal('120.74'))] \n",
      "\n",
      "fetchall_count:  18\n",
      "[(4, 74, 5, Decimal('147.32')), (29, 74, 1, Decimal('252.93')), (57, 74, 3, Decimal('122.31')), (71, 74, 3, Decimal('248.88')), (109, 74, 2, Decimal('153.78')), (117, 74, 2, Decimal('239.23')), (249, 74, 1, Decimal('62.07'))] \n",
      "\n",
      "fetchall_count:  19\n",
      "[(27, 78, 3, Decimal('119.16')), (102, 78, 5, Decimal('82.35')), (118, 78, 5, Decimal('234.81')), (124, 78, 3, Decimal('184.20')), (132, 78, 5, Decimal('180.47')), (136, 78, 2, Decimal('177.59')), (171, 78, 2, Decimal('229.83')), (181, 78, 4, Decimal('110.29')), (236, 78, 1, Decimal('268.99')), (240, 78, 5, Decimal('42.51')), (259, 78, 1, Decimal('159.71')), (279, 78, 1, Decimal('226.70')), (280, 78, 4, Decimal('178.82'))] \n",
      "\n",
      "fetchall_count:  20\n",
      "[(9, 80, 5, Decimal('111.15')), (29, 80, 3, Decimal('123.98')), (58, 80, 1, Decimal('95.93')), (98, 80, 3, Decimal('151.25')), (127, 80, 5, Decimal('258.30')), (146, 80, 4, Decimal('134.53')), (170, 80, 2, Decimal('181.95')), (180, 80, 5, Decimal('69.76')), (199, 80, 2, Decimal('123.18')), (215, 80, 5, Decimal('230.87')), (234, 80, 4, Decimal('114.31')), (250, 80, 2, Decimal('81.27')), (255, 80, 5, Decimal('68.91')), (258, 80, 3, Decimal('38.20')), (271, 80, 1, Decimal('291.51')), (276, 80, 2, Decimal('178.59')), (280, 80, 4, Decimal('180.09')), (298, 80, 4, Decimal('282.42'))] \n",
      "\n"
     ]
    }
   ],
   "source": [
    "# global cursor\n",
    "cursor = conn.cursor()\n",
    "fetchall_count = 0\n",
    "\n",
    "for oven in all_ovens:\n",
    "    oven_id = oven[0]\n",
    "    sql_string = 'SELECT * FROM product_orders WHERE product_id = %s'\n",
    "    \n",
    "    cursor.execute(sql_string, [oven_id])\n",
    "    oven_orders = cursor.fetchall()\n",
    "    fetchall_count += 1\n",
    "    \n",
    "    print('fetchall_count: ', fetchall_count)\n",
    "    print(oven_orders, \"\\n\")\n"
   ]
  },
  {
   "cell_type": "code",
   "execution_count": 13,
   "id": "63c5ea9f-3786-42d7-8ced-25c45037bd58",
   "metadata": {},
   "outputs": [],
   "source": [
    "del cursor"
   ]
  },
  {
   "cell_type": "code",
   "execution_count": 14,
   "id": "727b7c0d-0c25-48c8-9da8-e6038c67a8ba",
   "metadata": {},
   "outputs": [],
   "source": [
    "# NOTE:\n",
    "\n",
    "# In above query, we are like check against one item and get all orders of specific item. Drop them back at home.\n",
    "\n",
    "# Then again go back to store and check against another item and get all orders of that item. Drop them back at home again.\n",
    "\n",
    "# This make inefficient and we want to get all orders of all related items while querying and bring them back to home all together."
   ]
  },
  {
   "cell_type": "code",
   "execution_count": 15,
   "id": "dc82f3ae-e6b0-47d9-b52f-9d5fde90573f",
   "metadata": {},
   "outputs": [],
   "source": [
    "# more efficient way\n",
    "def getProductOrdersByType(db_conn, product_type):\n",
    "    cursor = db_conn.cursor()\n",
    "    \n",
    "    sql_string = 'SELECT po.* \\\n",
    "                        FROM product_orders po \\\n",
    "                        JOIN products p \\\n",
    "                        ON p.product_id = po.product_id  \\\n",
    "                        WHERE p.product_type = %s'\n",
    "    \n",
    "    cursor.execute(sql_string, [product_type])\n",
    "    return (cursor.fetchall())\n"
   ]
  },
  {
   "cell_type": "code",
   "execution_count": 16,
   "id": "5749a61f-775a-498e-a03a-35110db4c542",
   "metadata": {},
   "outputs": [],
   "source": [
    "all_product_orders = getProductOrdersByType(conn, 'oven')"
   ]
  },
  {
   "cell_type": "code",
   "execution_count": 17,
   "id": "5192fa34-f96a-4f90-a706-05061abc3662",
   "metadata": {},
   "outputs": [
    {
     "data": {
      "text/plain": [
       "249"
      ]
     },
     "execution_count": 17,
     "metadata": {},
     "output_type": "execute_result"
    }
   ],
   "source": [
    "len(all_product_orders)"
   ]
  },
  {
   "cell_type": "code",
   "execution_count": 18,
   "id": "9454a5bd-f6f9-47bb-be91-12dc582b9e45",
   "metadata": {},
   "outputs": [
    {
     "data": {
      "text/plain": [
       "[(3, 1, 5, Decimal('72.69')),\n",
       " (25, 1, 4, Decimal('63.59')),\n",
       " (59, 1, 3, Decimal('22.07')),\n",
       " (68, 1, 4, Decimal('196.11')),\n",
       " (71, 1, 5, Decimal('227.35'))]"
      ]
     },
     "execution_count": 18,
     "metadata": {},
     "output_type": "execute_result"
    }
   ],
   "source": [
    "all_product_orders[:5]"
   ]
  },
  {
   "cell_type": "code",
   "execution_count": 19,
   "id": "56e13beb-d48f-4ce9-bb64-0d5b87705c1e",
   "metadata": {},
   "outputs": [],
   "source": [
    "# Challenge\n",
    "# write a function that executes an SQL query to reterive all product orders.\n",
    "# type: fryer\n",
    "# quanity greater than 3"
   ]
  },
  {
   "cell_type": "code",
   "execution_count": 20,
   "id": "0e1b7e38-5eef-4394-a458-c3f207eba4b6",
   "metadata": {},
   "outputs": [],
   "source": [
    "def getAllProductOrdersByType(db_conn, product_type, quantity_greater_than):\n",
    "    \n",
    "    cursor = db_conn.cursor()\n",
    "    sql_string = 'SELECT po.* \\\n",
    "                        FROM product_orders po \\\n",
    "                        JOIN products p \\\n",
    "                        ON p.product_id = po.product_id \\\n",
    "                        WHERE p.product_type = %s \\\n",
    "                        AND po.quantity > %s'\n",
    "    \n",
    "#     sql_string = 'SELECT po.* \\\n",
    "#                         FROM product_orders po \\\n",
    "#                         JOIN products p \\\n",
    "#                         ON p.product_id = po.product_id  \\\n",
    "#                         WHERE p.product_type = %s \\\n",
    "#                         AND po.quantity > 3'\n",
    "    \n",
    "    cursor.execute(sql_string, [product_type, quantity_greater_than])\n",
    "    return (cursor.fetchall())"
   ]
  },
  {
   "cell_type": "code",
   "execution_count": 21,
   "id": "89774464-5f1b-490f-9ca5-e389968b9925",
   "metadata": {},
   "outputs": [],
   "source": [
    "all_product_orders = getAllProductOrdersByType(conn, 'fryer', 3)"
   ]
  },
  {
   "cell_type": "code",
   "execution_count": 22,
   "id": "a683baab-56f4-471b-bc09-25489056d9e7",
   "metadata": {},
   "outputs": [
    {
     "data": {
      "text/plain": [
       "19"
      ]
     },
     "execution_count": 22,
     "metadata": {},
     "output_type": "execute_result"
    }
   ],
   "source": [
    "\n",
    "len(all_product_orders)"
   ]
  },
  {
   "cell_type": "code",
   "execution_count": 23,
   "id": "88f1cade-8061-4593-a71b-dd0b2f9b5752",
   "metadata": {},
   "outputs": [
    {
     "data": {
      "text/plain": [
       "[(10, 3, 4, Decimal('90.93')),\n",
       " (24, 3, 5, Decimal('131.20')),\n",
       " (86, 3, 5, Decimal('266.13')),\n",
       " (140, 3, 5, Decimal('298.42')),\n",
       " (150, 3, 5, Decimal('259.76')),\n",
       " (151, 3, 4, Decimal('262.93')),\n",
       " (273, 3, 4, Decimal('222.86')),\n",
       " (56, 17, 5, Decimal('64.47')),\n",
       " (220, 17, 5, Decimal('146.25')),\n",
       " (224, 17, 4, Decimal('30.91')),\n",
       " (295, 17, 5, Decimal('143.12')),\n",
       " (254, 26, 4, Decimal('22.24')),\n",
       " (75, 54, 4, Decimal('165.38')),\n",
       " (98, 54, 4, Decimal('45.03')),\n",
       " (150, 54, 5, Decimal('62.33')),\n",
       " (7, 64, 5, Decimal('261.31')),\n",
       " (90, 64, 5, Decimal('133.20')),\n",
       " (183, 64, 5, Decimal('58.37')),\n",
       " (205, 64, 5, Decimal('228.90'))]"
      ]
     },
     "execution_count": 23,
     "metadata": {},
     "output_type": "execute_result"
    }
   ],
   "source": [
    "all_product_orders"
   ]
  },
  {
   "cell_type": "code",
   "execution_count": null,
   "id": "a22ad897-dea1-42f6-8799-4c820726df2f",
   "metadata": {},
   "outputs": [],
   "source": []
  }
 ],
 "metadata": {
  "kernelspec": {
   "display_name": "Python 3 (ipykernel)",
   "language": "python",
   "name": "python3"
  },
  "language_info": {
   "codemirror_mode": {
    "name": "ipython",
    "version": 3
   },
   "file_extension": ".py",
   "mimetype": "text/x-python",
   "name": "python",
   "nbconvert_exporter": "python",
   "pygments_lexer": "ipython3",
   "version": "3.12.7"
  }
 },
 "nbformat": 4,
 "nbformat_minor": 5
}
