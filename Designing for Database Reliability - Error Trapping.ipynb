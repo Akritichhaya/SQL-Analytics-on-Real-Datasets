{
 "cells": [
  {
   "cell_type": "code",
   "execution_count": 1,
   "id": "4e391a3b-d8ce-4af4-ba0d-828ccbcefad8",
   "metadata": {},
   "outputs": [],
   "source": [
    "# Error Trapping for Database Errors\n",
    "import psycopg2"
   ]
  },
  {
   "cell_type": "code",
   "execution_count": 2,
   "id": "399b453d-f0be-4f11-88cf-ece35787972f",
   "metadata": {},
   "outputs": [],
   "source": [
    "# Connecting with invalid credentials\n",
    "USER = 'postgres'\n",
    "PASSWORD = 'mahi'"
   ]
  },
  {
   "cell_type": "code",
   "execution_count": 3,
   "id": "87b6ba73-3e26-442d-b97c-bf9dbcfc32ff",
   "metadata": {},
   "outputs": [],
   "source": [
    "conn = psycopg2.connect(database='sql-data-analysis-and-visualisation-projects',\n",
    "                                        user=USER,\n",
    "                                        password=PASSWORD,\n",
    "                                        host='localhost')"
   ]
  },
  {
   "cell_type": "code",
   "execution_count": 4,
   "id": "d0189509-e582-40c5-ad0e-d62cc8f90c04",
   "metadata": {},
   "outputs": [],
   "source": [
    "# Exception Handling\n",
    "try:\n",
    "    conn = psycopg2.connect(database='sql-data-analysis-and-visualisation-projects',\n",
    "                                        user=USER,\n",
    "                                        password=PASSWORD,\n",
    "                                        host='localhost')\n",
    "except psycopg2.OperationalError as err:\n",
    "    print(err)\n",
    "    conn = None\n"
   ]
  },
  {
   "cell_type": "code",
   "execution_count": 5,
   "id": "4973da0f-fe07-44a0-9177-5a35d13e82f1",
   "metadata": {},
   "outputs": [
    {
     "name": "stdout",
     "output_type": "stream",
     "text": [
      "<connection object at 0x000002E84291D140; dsn: 'user=postgres password=xxx dbname=sql-data-analysis-and-visualisation-projects host=localhost', closed: 0>\n"
     ]
    }
   ],
   "source": [
    "print(conn)\n"
   ]
  },
  {
   "cell_type": "code",
   "execution_count": null,
   "id": "31cc9779-331a-4bdd-bc42-ed8919f01b39",
   "metadata": {},
   "outputs": [],
   "source": [
    "Your python web application is failing with an unhandled excpetion because an attempted connection to the database failed.\n",
    "\n",
    "What Python programming statement would you use to trap the error?\n",
    "\n",
    "What Algorithm would you use in the error handling code to attempt reconnects to the database?\n",
    "\n",
    "Solution\n",
    "try except clause\n",
    "exceptional back off approach"
   ]
  },
  {
   "cell_type": "code",
   "execution_count": null,
   "id": "489f6005-1762-4bd8-abb1-d93de1079c00",
   "metadata": {},
   "outputs": [],
   "source": []
  },
  {
   "cell_type": "code",
   "execution_count": null,
   "id": "f3c8ff35-a64f-425b-b08c-fb33ba70d3bf",
   "metadata": {},
   "outputs": [],
   "source": []
  }
 ],
 "metadata": {
  "kernelspec": {
   "display_name": "Python 3 (ipykernel)",
   "language": "python",
   "name": "python3"
  },
  "language_info": {
   "codemirror_mode": {
    "name": "ipython",
    "version": 3
   },
   "file_extension": ".py",
   "mimetype": "text/x-python",
   "name": "python",
   "nbconvert_exporter": "python",
   "pygments_lexer": "ipython3",
   "version": "3.12.7"
  }
 },
 "nbformat": 4,
 "nbformat_minor": 5
}
